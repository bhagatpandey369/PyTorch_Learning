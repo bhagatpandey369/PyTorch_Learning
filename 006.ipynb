{
 "cells": [
  {
   "cell_type": "code",
   "execution_count": 1,
   "id": "4d8a5aae",
   "metadata": {},
   "outputs": [],
   "source": [
    "import torch"
   ]
  },
  {
   "cell_type": "code",
   "execution_count": 2,
   "id": "1e91f01d",
   "metadata": {},
   "outputs": [
    {
     "data": {
      "text/plain": [
       "tensor([8, 9, 0, 3, 1, 2, 5, 4, 6, 7])"
      ]
     },
     "execution_count": 2,
     "metadata": {},
     "output_type": "execute_result"
    }
   ],
   "source": [
    "torch.randperm(10)"
   ]
  },
  {
   "cell_type": "code",
   "execution_count": 3,
   "id": "40655afd",
   "metadata": {},
   "outputs": [
    {
     "data": {
      "text/plain": [
       "tensor([6, 5, 8, 7, 2, 9, 4, 0, 1, 3])"
      ]
     },
     "execution_count": 3,
     "metadata": {},
     "output_type": "execute_result"
    }
   ],
   "source": [
    "torch.randperm(10)"
   ]
  },
  {
   "cell_type": "code",
   "execution_count": 6,
   "id": "ae2e2fb5",
   "metadata": {},
   "outputs": [],
   "source": [
    "data = torch.tensor([100,200,300,400])"
   ]
  },
  {
   "cell_type": "code",
   "execution_count": 7,
   "id": "a045f41a",
   "metadata": {},
   "outputs": [
    {
     "data": {
      "text/plain": [
       "torch.Size([4])"
      ]
     },
     "execution_count": 7,
     "metadata": {},
     "output_type": "execute_result"
    }
   ],
   "source": [
    "data.size()"
   ]
  },
  {
   "cell_type": "code",
   "execution_count": 12,
   "id": "127f5523",
   "metadata": {},
   "outputs": [
    {
     "data": {
      "text/plain": [
       "tensor([200, 100, 400, 300])"
      ]
     },
     "execution_count": 12,
     "metadata": {},
     "output_type": "execute_result"
    }
   ],
   "source": [
    "data[torch.randperm(data.size(0))]"
   ]
  },
  {
   "cell_type": "code",
   "execution_count": 20,
   "id": "ce367f68",
   "metadata": {},
   "outputs": [
    {
     "data": {
      "text/plain": [
       "tensor([2, 1, 2, 1, 2])"
      ]
     },
     "execution_count": 20,
     "metadata": {},
     "output_type": "execute_result"
    }
   ],
   "source": [
    "probs = torch.tensor([0.1,0.3,0.6])\n",
    "torch.multinomial(probs, num_samples=5, replacement=True)"
   ]
  },
  {
   "cell_type": "code",
   "execution_count": 25,
   "id": "1a7bd2ce",
   "metadata": {},
   "outputs": [
    {
     "data": {
      "text/plain": [
       "tensor([2, 1, 0])"
      ]
     },
     "execution_count": 25,
     "metadata": {},
     "output_type": "execute_result"
    }
   ],
   "source": [
    "probs = torch.tensor([0.1,0.3,0.6])\n",
    "torch.multinomial(probs, num_samples=3, replacement=False)"
   ]
  },
  {
   "cell_type": "code",
   "execution_count": 26,
   "id": "726958c8",
   "metadata": {},
   "outputs": [
    {
     "data": {
      "text/plain": [
       "tensor([[ 0.5498,  1.7450, -3.0784],\n",
       "        [-0.0542,  1.5886, -0.8846],\n",
       "        [ 0.4203,  2.8050,  4.0808]])"
      ]
     },
     "execution_count": 26,
     "metadata": {},
     "output_type": "execute_result"
    }
   ],
   "source": [
    "torch.normal(mean=0.5, std=2.5, size=(3,3))"
   ]
  },
  {
   "cell_type": "code",
   "execution_count": 27,
   "id": "1fd63cc3",
   "metadata": {},
   "outputs": [
    {
     "data": {
      "text/plain": [
       "tensor([1.1818, 2.2626, 2.5348])"
      ]
     },
     "execution_count": 27,
     "metadata": {},
     "output_type": "execute_result"
    }
   ],
   "source": [
    "means = torch.tensor([0.0, 1.0, 2.0])\n",
    "stds = torch.tensor([1.0,1.0,1.0])\n",
    "\n",
    "torch.normal(mean=means, std=stds)"
   ]
  }
 ],
 "metadata": {
  "kernelspec": {
   "display_name": "PyTorch",
   "language": "python",
   "name": "python3"
  },
  "language_info": {
   "codemirror_mode": {
    "name": "ipython",
    "version": 3
   },
   "file_extension": ".py",
   "mimetype": "text/x-python",
   "name": "python",
   "nbconvert_exporter": "python",
   "pygments_lexer": "ipython3",
   "version": "3.12.3"
  }
 },
 "nbformat": 4,
 "nbformat_minor": 5
}
